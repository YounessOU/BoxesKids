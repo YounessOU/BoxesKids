{
 "cells": [
  {
   "cell_type": "code",
   "execution_count": 1,
   "metadata": {},
   "outputs": [
    {
     "name": "stdout",
     "output_type": "stream",
     "text": [
      "pA Box2\n",
      "pB Box3\n",
      "pC Box3\n",
      "pD Box1\n"
     ]
    }
   ],
   "source": [
    "import math    #importer la bibliothèque math pour calculer la distance\n",
    "\n",
    "\"\"\" Premierement on va initialiser 4 listes : boxes,boxes_indexs,kids,et kids_index\"\"\"\n",
    "\n",
    "if __name__ == \"__main__\":\n",
    "    boxes = []\n",
    "    boxes_indexs = []\n",
    "    kids = []\n",
    "    kids_indexs = []\n",
    "    \n",
    "    with open(\"input.txt\") as f: #on ouvre notre fichier input.txt qui va contenir tous les informations necessaires\n",
    "        lines = f.readlines()  \n",
    "        \n",
    "    B = int(lines[0])           #ligne 1 du fichier: nombres des abris B\n",
    "    \n",
    "    for  line in lines[1:B+1]:  #ligne 2 jus'au B ième ligne +2 (B: nombres des abris si B=3 alors les 3lignes suivantes)\n",
    "        box, x, y = line.split(\" \") #chaque ligne correspendant a l'identifiant box et les coordonnés x et y de l'abri\n",
    "        boxes.append(box)      # Dans notre cas la liste box doit contenir [Box1,Box2,Box3]\n",
    "        boxes_indexs.append((int(x),int(y)))  # la liste boxes_indexs = [(8,-6),(6,10),(4,5)]\n",
    "        \n",
    "        \n",
    "    K = int(lines[B+1])  # K c'est le nombre d'enfants, ce nombre situé dans la Biem Ligne +1 dans le fichier input.txt\n",
    "    \n",
    "    for  line in lines[B+2:]:\n",
    "        kid, x, y = line.split(\" \") #chaque ligne correspendant a l'identifiant kid et les coordonnés x et y de l'enfant\n",
    "        kids.append(kid)                      #kids=[pA,pB,pC,pD]\n",
    "        kids_indexs.append((int(x),int(y)))   #kids_indexs=[(8,8),(2,7),(-2,1),(-5,-7)]\n",
    "\n",
    "    for i,kid in enumerate(kids_indexs):     #pour chaque enfant on va calculer la distance entre lui et les abris \n",
    "        dist_min = float('inf')              #dist_min c'est une variable infini \n",
    "        index = 0\n",
    "        for j , box in enumerate(boxes_indexs):\n",
    "            # calcule de la distance entre l'enfant avec chaque abri\n",
    "            dist = math.sqrt(math.pow((kid[0] - box[0]),2 ) +  math.pow((kid[1] - box[1]),2 )) \n",
    "          # on va comparé chaque distance calculé avec la variable dist_min pour cela on a pris dist_min comme une variable infini\n",
    "            if dist < dist_min:    \n",
    "                index = j          # index ici c'est l'indice de l'abri la plus proche du l'enfant\n",
    "                dist_min = dist     # pour chaque enfant dist_min c'est la distance minimal entre lui et l'abri\n",
    "        print(kids[i],boxes[index])  # affichage de chaque enfant avec l'abri le plus proche de lui"
   ]
  }
 ],
 "metadata": {
  "kernelspec": {
   "display_name": "Python 3",
   "language": "python",
   "name": "python3"
  },
  "language_info": {
   "codemirror_mode": {
    "name": "ipython",
    "version": 3
   },
   "file_extension": ".py",
   "mimetype": "text/x-python",
   "name": "python",
   "nbconvert_exporter": "python",
   "pygments_lexer": "ipython3",
   "version": "3.7.6"
  }
 },
 "nbformat": 4,
 "nbformat_minor": 4
}
